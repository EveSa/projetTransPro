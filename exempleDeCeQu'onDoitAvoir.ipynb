{
 "cells": [
  {
   "cell_type": "code",
   "execution_count": 16,
   "id": "d2b11a32",
   "metadata": {},
   "outputs": [
    {
     "name": "stdout",
     "output_type": "stream",
     "text": [
      "[SoNA, 7:30PM, The SoNA Singers, December 11, 2021, Walton Arts Center, A Very SoNA Christmas, 2PM]\n"
     ]
    },
    {
     "data": {
      "text/html": [
       "<span class=\"tex2jax_ignore\"><div class=\"entities\" style=\"line-height: 2.5; direction: ltr\">\n",
       "<mark class=\"entity\" style=\"background: #ddd; padding: 0.45em 0.6em; margin: 0 0.25em; line-height: 1; border-radius: 0.35em;\">\n",
       "    A Very SoNA Christmas\n",
       "    <span style=\"font-size: 0.8em; font-weight: bold; line-height: 1; border-radius: 0.35em; vertical-align: middle; margin-left: 0.5rem\">production_name</span>\n",
       "</mark>\n",
       "</br>View SoNA’s Covid Safety Policies</br>Skip to Content</br>About</br>History Mission</br>Staff Board</br>Music Director</br>Musicians</br>SoNA Singers</br>Auditions</br>Hire Ensembles</br>Contact</br>2021-22 Season</br>Subscriber Series</br>Ticketed Performances</br>SoNA Beyond Series</br>Virtual Performances</br>Virtual Performances</br>Solos from Home</br>Special Events</br>Fireworks at the Farm</br>Reimagined Celebration</br>Donate</br>Gallery</br>Education</br>Blog</br>Open Menu</br>Close Menu</br>About</br>History Mission</br>Staff Board</br>Music Director</br>Musicians</br>SoNA Singers</br>Auditions</br>Hire Ensembles</br>Contact</br>2021-22 Season</br>Subscriber Series</br>Ticketed Performances</br>SoNA Beyond Series</br>Virtual Performances</br>Virtual Performances</br>Solos from Home</br>Special Events</br>Fireworks at the Farm</br>Reimagined Celebration</br>Donate</br>Gallery</br>Education</br>Blog</br>Open Menu</br>Close Menu</br>Folder:</br>About</br>Folder:</br>2021-22 Season</br>SoNA Beyond Series</br>Folder:</br>Virtual Performances</br>Folder:</br>Special Events</br>Donate</br>Gallery</br>Education</br>Blog</br>Back</br>History Mission</br>Staff Board</br>Music Director</br>Musicians</br>SoNA Singers</br>Auditions</br>Hire Ensembles</br>Contact</br>Back</br>Subscriber Series</br>Ticketed Performances</br>Back</br>Virtual Performances</br>Solos from Home</br>Back</br>Fireworks at the Farm</br>Reimagined Celebration</br>A Very SoNA Christmas</br>Jul 10, 2021</br>Written By SoNA</br>Saturday, \n",
       "<mark class=\"entity\" style=\"background: #ddd; padding: 0.45em 0.6em; margin: 0 0.25em; line-height: 1; border-radius: 0.35em;\">\n",
       "    December 11, 2021\n",
       "    <span style=\"font-size: 0.8em; font-weight: bold; line-height: 1; border-radius: 0.35em; vertical-align: middle; margin-left: 0.5rem\">performance_date</span>\n",
       "</mark>\n",
       " \n",
       "<mark class=\"entity\" style=\"background: #ddd; padding: 0.45em 0.6em; margin: 0 0.25em; line-height: 1; border-radius: 0.35em;\">\n",
       "    2PM\n",
       "    <span style=\"font-size: 0.8em; font-weight: bold; line-height: 1; border-radius: 0.35em; vertical-align: middle; margin-left: 0.5rem\">performance_starttime</span>\n",
       "</mark>\n",
       " \n",
       "<mark class=\"entity\" style=\"background: #ddd; padding: 0.45em 0.6em; margin: 0 0.25em; line-height: 1; border-radius: 0.35em;\">\n",
       "    7:30PM\n",
       "    <span style=\"font-size: 0.8em; font-weight: bold; line-height: 1; border-radius: 0.35em; vertical-align: middle; margin-left: 0.5rem\">performance_starttime</span>\n",
       "</mark>\n",
       " \n",
       "<mark class=\"entity\" style=\"background: #ddd; padding: 0.45em 0.6em; margin: 0 0.25em; line-height: 1; border-radius: 0.35em;\">\n",
       "    Walton Arts Center\n",
       "    <span style=\"font-size: 0.8em; font-weight: bold; line-height: 1; border-radius: 0.35em; vertical-align: middle; margin-left: 0.5rem\">auditorium</span>\n",
       "</mark>\n",
       ", Fayetteville</br>A mix of sacred and secular holiday favorites with local guest soloists, \n",
       "<mark class=\"entity\" style=\"background: #ddd; padding: 0.45em 0.6em; margin: 0 0.25em; line-height: 1; border-radius: 0.35em;\">\n",
       "    The SoNA Singers\n",
       "    <span style=\"font-size: 0.8em; font-weight: bold; line-height: 1; border-radius: 0.35em; vertical-align: middle; margin-left: 0.5rem\">organization</span>\n",
       "</mark>\n",
       ", and area high school and collegiate choruses. Saturday, December 11, 2021 2PM Matinee Performance Saturday, December 11, 2021 7:30PM Evening Performance</br>Buy Tickets</br>Buy Tickets</br>Single Tickets: 35, 45, 57 Under 18 FREE with purchase of adult ticket limited quantities Interested in a full season subscription Learn more here . Concert sponsored by Bogle Family Foundation</br>We are committed to ensuring that audiences can experience music safely in person at our performances. Until further notice, patrons, staff, and volunteers are required to wear masks. Learn more about our safety policy here .</br>\n",
       "<mark class=\"entity\" style=\"background: #ddd; padding: 0.45em 0.6em; margin: 0 0.25em; line-height: 1; border-radius: 0.35em;\">\n",
       "    SoNA\n",
       "    <span style=\"font-size: 0.8em; font-weight: bold; line-height: 1; border-radius: 0.35em; vertical-align: middle; margin-left: 0.5rem\">organization</span>\n",
       "</mark>\n",
       "</br>Previous</br>Previous</br>Mozart and Beethoven</br>Next</br>Next</br>SoNA Walton Arts Center present The Snowman: A Family Concert</br>Receive the latest updates</br>Email Address</br>Sign Up</br>Thank you for joining our email list You should receive a verification email shortly to confirm.</br>Office: 479.521.4166 Tickets: 479.443.5600 infosonamusic.org</br>Copyright 2021, SoNA. All rights reserved.</br>Support SoNA</div></span>"
      ],
      "text/plain": [
       "<IPython.core.display.HTML object>"
      ]
     },
     "metadata": {},
     "output_type": "display_data"
    }
   ],
   "source": [
    "import spacy\n",
    "from spacy import displacy\n",
    "from spacy.tokens import DocBin\n",
    "import os\n",
    "\n",
    "annot_data = [('A Very SoNA Christmas\\nView SoNA’s Covid Safety Policies\\nSkip to Content\\nAbout\\nHistory Mission\\nStaff Board\\nMusic Director\\nMusicians\\nSoNA Singers\\nAuditions\\nHire Ensembles\\nContact\\n2021-22 Season\\nSubscriber Series\\nTicketed Performances\\nSoNA Beyond Series\\nVirtual Performances\\nVirtual Performances\\nSolos from Home\\nSpecial Events\\nFireworks at the Farm\\nReimagined Celebration\\nDonate\\nGallery\\nEducation\\nBlog\\nOpen Menu\\nClose Menu\\nAbout\\nHistory Mission\\nStaff Board\\nMusic Director\\nMusicians\\nSoNA Singers\\nAuditions\\nHire Ensembles\\nContact\\n2021-22 Season\\nSubscriber Series\\nTicketed Performances\\nSoNA Beyond Series\\nVirtual Performances\\nVirtual Performances\\nSolos from Home\\nSpecial Events\\nFireworks at the Farm\\nReimagined Celebration\\nDonate\\nGallery\\nEducation\\nBlog\\nOpen Menu\\nClose Menu\\nFolder:\\nAbout\\nFolder:\\n2021-22 Season\\nSoNA Beyond Series\\nFolder:\\nVirtual Performances\\nFolder:\\nSpecial Events\\nDonate\\nGallery\\nEducation\\nBlog\\nBack\\nHistory Mission\\nStaff Board\\nMusic Director\\nMusicians\\nSoNA Singers\\nAuditions\\nHire Ensembles\\nContact\\nBack\\nSubscriber Series\\nTicketed Performances\\nBack\\nVirtual Performances\\nSolos from Home\\nBack\\nFireworks at the Farm\\nReimagined Celebration\\nA Very SoNA Christmas\\nJul 10, 2021\\nWritten By SoNA\\nSaturday, December 11, 2021 2PM 7:30PM Walton Arts Center, Fayetteville\\nA mix of sacred and secular holiday favorites with local guest soloists, The SoNA Singers, and area high school and collegiate choruses. Saturday, December 11, 2021 2PM Matinee Performance Saturday, December 11, 2021 7:30PM Evening Performance\\nBuy Tickets\\nBuy Tickets\\nSingle Tickets: 35, 45, 57 Under 18 FREE with purchase of adult ticket limited quantities Interested in a full season subscription Learn more here . Concert sponsored by Bogle Family Foundation\\nWe are committed to ensuring that audiences can experience music safely in person at our performances. Until further notice, patrons, staff, and volunteers are required to wear masks. Learn more about our safety policy here .\\nSoNA\\nPrevious\\nPrevious\\nMozart and Beethoven\\nNext\\nNext\\nSoNA Walton Arts Center present The Snowman: A Family Concert\\nReceive the latest updates\\nEmail Address\\nSign Up\\nThank you for joining our email list You should receive a verification email shortly to confirm.\\nOffice: 479.521.4166 Tickets: 479.443.5600 infosonamusic.org\\nCopyright 2021, SoNA. All rights reserved.\\nSupport SoNA',\n",
    "  {'entities': [(1958, 1962, 'organization'),\n",
    "    (1230, 1236, 'performance_starttime'),\n",
    "    (1343, 1359, 'organization'),\n",
    "    (1208, 1225, 'performance_date'),\n",
    "    (1237, 1255, 'auditorium'),\n",
    "    (0, 21, 'production_name'),\n",
    "    (1226, 1229, 'performance_starttime')]})]\n",
    "\n",
    "nlp = spacy.blank('en')\n",
    "raw_text = annot_data[0][0]\n",
    "doc = nlp.make_doc(raw_text)\n",
    "spans = annot_data[0][1][\"entities\"]\n",
    "ents = []\n",
    "for span_start, span_end, label in spans:\n",
    "    ent = doc.char_span(span_start, span_end, label=label)\n",
    "    if ent is None:\n",
    "        continue\n",
    "\n",
    "    ents.append(ent)\n",
    "print(ents)\n",
    "doc.ents = ents\n",
    "html = displacy.render(doc, style=\"ent\", jupyter=True)"
   ]
  }
 ],
 "metadata": {
  "kernelspec": {
   "display_name": "Python 3 (ipykernel)",
   "language": "python",
   "name": "python3"
  },
  "language_info": {
   "codemirror_mode": {
    "name": "ipython",
    "version": 3
   },
   "file_extension": ".py",
   "mimetype": "text/x-python",
   "name": "python",
   "nbconvert_exporter": "python",
   "pygments_lexer": "ipython3",
   "version": "3.8.8"
  }
 },
 "nbformat": 4,
 "nbformat_minor": 5
}
